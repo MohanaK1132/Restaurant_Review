{
  "cells": [
    {
      "cell_type": "code",
      "execution_count": null,
      "metadata": {
        "id": "9u6Yqk1BAMOq"
      },
      "outputs": [],
      "source": [
        "import numpy as np\n",
        "import matplotlib.pyplot as plt\n",
        "import pandas as pd"
      ]
    },
    {
      "cell_type": "code",
      "execution_count": null,
      "metadata": {
        "id": "_wG-tDGKAMmu"
      },
      "outputs": [],
      "source": [
        "df = pd.read_csv('Restaurant_Reviews.csv', delimiter = '\\t', quoting = 3)"
      ]
    },
    {
      "cell_type": "code",
      "execution_count": null,
      "metadata": {
        "id": "R2GoRWoEAMuu"
      },
      "outputs": [],
      "source": [
        "#  Using scikit-learn's CountVectorizer to convert your preprocessed text data into a numerical format that can be used as input for machine learning models.\n",
        "#  After running this code, we will have our text data in a numerical format suitable for training machine learning models, and X and y can be used for tasks like sentiment analysis or any other text classification task.\n",
        "\n",
        "from sklearn.feature_extraction.text import CountVectorizer\n",
        "cv = CountVectorizer(max_features =100)\n",
        "X = cv.fit_transform(corpus).toarray()\n",
        "y = df.iloc[:, -1].values"
      ]
    },
    {
      "cell_type": "code",
      "execution_count": null,
      "metadata": {
        "colab": {
          "base_uri": "https://localhost:8080/"
        },
        "id": "iBmq0G34AM2m",
        "outputId": "57ffffee-4697-4450-b9f9-8c5d891e3ee4"
      },
      "outputs": [],
      "source": [
        "# Demonstrates the use of scikit-learn to train a K-Nearest Neighbors (KNN) classifier on your text data and evaluate its performance using accuracy.\n",
        "from sklearn.model_selection import train_test_split\n",
        "from sklearn.neighbors import KNeighborsClassifier\n",
        "from sklearn.metrics import accuracy_score\n",
        "\n",
        "# Split the dataset into training and testing sets\n",
        "X_train, X_test, y_train, y_test = train_test_split(X, y, test_size=0.20, random_state=1)\n",
        "\n",
        "# Initialize the KNN model, specifying the number of neighbors (k)\n",
        "model = KNeighborsClassifier(n_neighbors=5)\n",
        "\n",
        "# Train the model using the training set\n",
        "model.fit(X_train, y_train)\n",
        "\n",
        "# Make predictions on the training set\n",
        "y_train_pred = model.predict(X_train)\n",
        "training_accuracy = accuracy_score(y_train, y_train_pred)\n",
        "print(f\"Training Accuracy: {training_accuracy*100}%\")\n",
        "\n",
        "# Make predictions on the testing set\n",
        "y_test_pred = model.predict(X_test)\n",
        "testing_accuracy = accuracy_score(y_test, y_test_pred)\n",
        "print(f\"Testing Accuracy: {testing_accuracy*100}%\")"
      ]
    },
    {
      "cell_type": "code",
      "execution_count": null,
      "metadata": {
        "colab": {
          "base_uri": "https://localhost:8080/"
        },
        "id": "_-g3W0aqAM7W",
        "outputId": "34dbbce9-44e6-4bf2-c15f-7ea256727f4e"
      },
      "outputs": [],
      "source": [
        "# demonstrates the use of scikit-learn to train Multi-NomialMB classifier on your text data and evaluate its performance using accuracy.\n",
        "from sklearn.model_selection import train_test_split\n",
        "from sklearn.naive_bayes import MultinomialNB\n",
        "from sklearn.metrics import accuracy_score\n",
        "\n",
        "# Split the dataset into training and testing sets\n",
        "X_train, X_test, y_train, y_test = train_test_split(X, y, test_size=0.20,random_state=0)\n",
        "\n",
        "# Initialize the MultinomialNB model\n",
        "model = MultinomialNB()\n",
        "\n",
        "# Train the model using the training set\n",
        "model.fit(X_train, y_train)\n",
        "\n",
        "# Make predictions on the training set\n",
        "y_train_pred = model.predict(X_train)\n",
        "training_accuracy = accuracy_score(y_train, y_train_pred)\n",
        "print(f\"Training Accuracy: {training_accuracy*100}%\")\n",
        "\n",
        "# Make predictions on the testing set\n",
        "y_test_pred = model.predict(X_test)\n",
        "testing_accuracy = accuracy_score(y_test, y_test_pred)\n",
        "print(f\"Testing Accuracy: {testing_accuracy*100}%\")"
      ]
    },
    {
      "cell_type": "code",
      "execution_count": null,
      "metadata": {
        "colab": {
          "base_uri": "https://localhost:8080/"
        },
        "id": "JBc1xUJzAM9v",
        "outputId": "6e258f70-dd7d-455f-eee0-b9d6c33e56b5"
      },
      "outputs": [],
      "source": [
        "# preprocesses a new review, converts it into a numerical format using the same preprocessing steps and CountVectorizer, and then uses a trained model to predict its sentiment\n",
        "new_review = 'The food is not that good'\n",
        "new_review = re.sub('[^a-zA-Z]', ' ', new_review)\n",
        "new_review = new_review.lower()\n",
        "new_review = new_review.split()\n",
        "ps = PorterStemmer()\n",
        "all_stopwords = stopwords.words('english')\n",
        "all_stopwords.remove('not')\n",
        "new_review = [ps.stem(word) for word in new_review if not word in set(all_stopwords)]\n",
        "new_review = ' '.join(new_review)\n",
        "new_corpus = [new_review]\n",
        "new_X_test = cv.transform(new_corpus).toarray()\n",
        "new_y_pred = model.predict(new_X_test)\n",
        "print(new_y_pred)"
      ]
    },
    {
      "cell_type": "code",
      "execution_count": null,
      "metadata": {
        "colab": {
          "base_uri": "https://localhost:8080/"
        },
        "id": "0qtK8evgANAc",
        "outputId": "97ac2f6e-8e27-4751-a190-1b568beb2f0c"
      },
      "outputs": [],
      "source": [
        "# preprocesses a new review, converts it into a numerical format using the same preprocessing steps and CountVectorizer, and then uses a trained model to predict its sentiment\n",
        "new_review = 'I love this place so much'\n",
        "new_review = re.sub('[^a-zA-Z]', ' ', new_review)\n",
        "new_review = new_review.lower()\n",
        "new_review = new_review.split()\n",
        "ps = PorterStemmer()\n",
        "all_stopwords = stopwords.words('english')\n",
        "all_stopwords.remove('not')\n",
        "new_review = [ps.stem(word) for word in new_review if not word in set(all_stopwords)]\n",
        "new_review = ' '.join(new_review)\n",
        "new_corpus = [new_review]\n",
        "new_X_test = cv.transform(new_corpus).toarray()\n",
        "new_y_pred = model.predict(new_X_test)\n",
        "print(new_y_pred)"
      ]
    },
    {
      "cell_type": "code",
      "execution_count": null,
      "metadata": {
        "colab": {
          "base_uri": "https://localhost:8080/"
        },
        "id": "i1A0f0BK9Nr5",
        "outputId": "3f7b0e82-e3ab-417d-c5f1-e92ad81cc7eb"
      },
      "outputs": [],
      "source": [
        "# predicting new unseen data\n",
        "new_review = 'not that good'\n",
        "new_review = re.sub('[^a-zA-Z]', ' ', new_review)\n",
        "new_review = new_review.lower()\n",
        "new_review = new_review.split()\n",
        "ps = PorterStemmer()\n",
        "all_stopwords = stopwords.words('english')\n",
        "all_stopwords.remove('not')\n",
        "new_review = [ps.stem(word) for word in new_review if not word in set(all_stopwords)]\n",
        "new_review = ' '.join(new_review)\n",
        "new_corpus = [new_review]\n",
        "new_X_test = cv.transform(new_corpus).toarray()\n",
        "new_y_pred = model.predict(new_X_test)\n",
        "print(new_y_pred)"
      ]
    }
  ],
  "metadata": {
    "colab": {
      "provenance": []
    },
    "kernelspec": {
      "display_name": "Python 3",
      "language": "python",
      "name": "python3"
    },
    "language_info": {
      "codemirror_mode": {
        "name": "ipython",
        "version": 3
      },
      "file_extension": ".py",
      "mimetype": "text/x-python",
      "name": "python",
      "nbconvert_exporter": "python",
      "pygments_lexer": "ipython3",
      "version": "3.11.1 (tags/v3.11.1:a7a450f, Dec  6 2022, 19:58:39) [MSC v.1934 64 bit (AMD64)]"
    },
    "vscode": {
      "interpreter": {
        "hash": "cf70955b51656da1f0f07145d007cd24de0fe0cae584dc69ee1e2ae9f7af7209"
      }
    }
  },
  "nbformat": 4,
  "nbformat_minor": 0
}
